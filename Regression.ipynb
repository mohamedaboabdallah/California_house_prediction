{
 "cells": [
  {
   "cell_type": "code",
   "execution_count": 6,
   "metadata": {},
   "outputs": [],
   "source": [
    "import pandas as pd\n",
    "from sklearn.model_selection import train_test_split,cross_val_score\n",
    "from sklearn.linear_model import LinearRegression, Lasso, Ridge\n",
    "from sklearn.metrics import mean_squared_error, mean_absolute_error\n",
    "from sklearn.model_selection import GridSearchCV\n",
    "import numpy as np\n",
    "from sklearn.preprocessing import StandardScaler\n"
   ]
  },
  {
   "cell_type": "markdown",
   "metadata": {},
   "source": [
    "importing libraries needed for the code  \n",
    "pandas fro reading data from file and working on it  \n",
    "sklearn do the Regression problems and calculate mean square and mean absolute"
   ]
  },
  {
   "cell_type": "code",
   "execution_count": 7,
   "metadata": {},
   "outputs": [],
   "source": [
    "data = pd.read_csv(\"California_Houses.csv\")\n",
    "X = data.drop(\"Median_House_Value\", axis=1)\n",
    "y = data[\"Median_House_Value\"]"
   ]
  },
  {
   "cell_type": "markdown",
   "metadata": {},
   "source": [
    "Reading the data neaded  \n",
    "dropping from the x the median hose values  \n",
    "adding it to the y which is the data needed to be predicted  "
   ]
  },
  {
   "cell_type": "code",
   "execution_count": 8,
   "metadata": {},
   "outputs": [],
   "source": [
    "X_train, X_test, Y_train, Y_test = train_test_split(X, y, test_size=0.3, random_state=None)\n",
    "X_test,X_validate,Y_test,Y_validate=train_test_split(X_test, Y_test, test_size=0.5, random_state=None)\n",
    "sc = StandardScaler()\n",
    "X_train=sc.fit_transform(X_train)\n",
    "X_valid= sc.transform(X_validate)\n",
    "X_test=sc.transform(X_test)"
   ]
  },
  {
   "cell_type": "markdown",
   "metadata": {},
   "source": [
    "dividing the data into  train , validate , and test with the ratios needed respectively 70,15,15 randomly  \n",
    "Normalizing the data according to the huge different in the scales of the data"
   ]
  },
  {
   "cell_type": "markdown",
   "metadata": {},
   "source": [
    "------------------------------------------------------------------------------------------------  \n",
    " What are lasso and ridge regressions:"
   ]
  },
  {
   "cell_type": "markdown",
   "metadata": {},
   "source": [
    "Lasso and Ridge regression are two popular techniques in machine learning and statistics used to create regularized linear regression models. These methods help address the issue of multicollinearity (correlated predictor variables) and prevent overfitting by adding a penalty term to the regression model, which constrains or shrinks the estimated coefficients.  \n",
    "λ is the regularization parameter, which controls the strength of the penalty.  "
   ]
  },
  {
   "cell_type": "markdown",
   "metadata": {},
   "source": [
    "1. Ridge Regression\n",
    "Ridge regression (also known as L2 regularization) minimizes the sum of squared residuals, just like ordinary least squares (OLS), but with an added penalty term that is the square of the magnitude of the coefficients.  \n",
    "Key Points of Ridge Regression:  \n",
    "Works well with multicollinearity: It stabilizes the estimates of the regression coefficients by shrinking them, which can be useful if there is high correlation among predictor variables.  \n",
    "No feature elimination: Ridge does not reduce coefficients to zero; it only shrinks them toward zero, which means it includes all features in the final model.  \n",
    "Used when all predictors are believed to be somewhat important, but you want to control overfitting."
   ]
  },
  {
   "cell_type": "markdown",
   "metadata": {},
   "source": [
    "\n",
    "2. Lasso Regression\n",
    "Lasso regression (also known as L1 regularization) minimizes the sum of squared residuals but adds a penalty proportional to the absolute values of the coefficients.   \n",
    "Key Points of Lasso Regression:\n",
    "Feature selection: Lasso can reduce some coefficients to exactly zero, effectively selecting a subset of predictors that it believes are most important for predicting the response variable.  \n",
    "Sparse solutions: Lasso is particularly useful when there are many features, and you suspect only a few of them are relevant.  \n",
    "Used when you suspect many predictors are unimportant and would like an automatic way to exclude them.  \n"
   ]
  },
  {
   "cell_type": "markdown",
   "metadata": {},
   "source": [
    "Choosing Between Ridge and Lasso:  \n",
    "If you have many features but only a few are likely to be important, Lasso may be a better choice since it can eliminate irrelevant features.  \n",
    "If all features are relevant but you need regularization to avoid overfitting, Ridge regression is usually preferable.  "
   ]
  },
  {
   "cell_type": "code",
   "execution_count": null,
   "metadata": {},
   "outputs": [
    {
     "name": "stderr",
     "output_type": "stream",
     "text": [
      "c:\\Users\\mohamed ahmed\\AppData\\Local\\Programs\\Python\\Python313\\Lib\\site-packages\\sklearn\\base.py:486: UserWarning: X has feature names, but Lasso was fitted without feature names\n",
      "  warnings.warn(\n",
      "c:\\Users\\mohamed ahmed\\AppData\\Local\\Programs\\Python\\Python313\\Lib\\site-packages\\sklearn\\base.py:486: UserWarning: X has feature names, but Ridge was fitted without feature names\n",
      "  warnings.warn(\n"
     ]
    },
    {
     "name": "stdout",
     "output_type": "stream",
     "text": [
      "Alpha: 0.10 | Lasso MSE: 436347908190469292032.00 | Lasso MAE: 17781438107.60 | Ridge MSE: 432391349529116213248.00 | Ridge MAE: 17703930485.11\n"
     ]
    },
    {
     "name": "stderr",
     "output_type": "stream",
     "text": [
      "c:\\Users\\mohamed ahmed\\AppData\\Local\\Programs\\Python\\Python313\\Lib\\site-packages\\sklearn\\base.py:486: UserWarning: X has feature names, but Lasso was fitted without feature names\n",
      "  warnings.warn(\n",
      "c:\\Users\\mohamed ahmed\\AppData\\Local\\Programs\\Python\\Python313\\Lib\\site-packages\\sklearn\\base.py:486: UserWarning: X has feature names, but Ridge was fitted without feature names\n",
      "  warnings.warn(\n"
     ]
    },
    {
     "name": "stdout",
     "output_type": "stream",
     "text": [
      "Alpha: 0.11 | Lasso MSE: 436270882456713887744.00 | Lasso MAE: 17779999938.14 | Ridge MSE: 431957452733987094528.00 | Ridge MAE: 17695475895.95\n"
     ]
    },
    {
     "name": "stderr",
     "output_type": "stream",
     "text": [
      "c:\\Users\\mohamed ahmed\\AppData\\Local\\Programs\\Python\\Python313\\Lib\\site-packages\\sklearn\\base.py:486: UserWarning: X has feature names, but Lasso was fitted without feature names\n",
      "  warnings.warn(\n",
      "c:\\Users\\mohamed ahmed\\AppData\\Local\\Programs\\Python\\Python313\\Lib\\site-packages\\sklearn\\base.py:486: UserWarning: X has feature names, but Ridge was fitted without feature names\n",
      "  warnings.warn(\n"
     ]
    },
    {
     "name": "stdout",
     "output_type": "stream",
     "text": [
      "Alpha: 0.12 | Lasso MSE: 436193799573202206720.00 | Lasso MAE: 17778560557.57 | Ridge MSE: 431524036311468212224.00 | Ridge MAE: 17687026369.65\n"
     ]
    },
    {
     "name": "stderr",
     "output_type": "stream",
     "text": [
      "c:\\Users\\mohamed ahmed\\AppData\\Local\\Programs\\Python\\Python313\\Lib\\site-packages\\sklearn\\base.py:486: UserWarning: X has feature names, but Lasso was fitted without feature names\n",
      "  warnings.warn(\n",
      "c:\\Users\\mohamed ahmed\\AppData\\Local\\Programs\\Python\\Python313\\Lib\\site-packages\\sklearn\\base.py:486: UserWarning: X has feature names, but Ridge was fitted without feature names\n",
      "  warnings.warn(\n"
     ]
    },
    {
     "name": "stdout",
     "output_type": "stream",
     "text": [
      "Alpha: 0.13 | Lasso MSE: 436116761137945182208.00 | Lasso MAE: 17777121884.55 | Ridge MSE: 431091099635760824320.00 | Ridge MAE: 17678581901.73\n"
     ]
    },
    {
     "name": "stderr",
     "output_type": "stream",
     "text": [
      "c:\\Users\\mohamed ahmed\\AppData\\Local\\Programs\\Python\\Python313\\Lib\\site-packages\\sklearn\\base.py:486: UserWarning: X has feature names, but Lasso was fitted without feature names\n",
      "  warnings.warn(\n",
      "c:\\Users\\mohamed ahmed\\AppData\\Local\\Programs\\Python\\Python313\\Lib\\site-packages\\sklearn\\base.py:486: UserWarning: X has feature names, but Ridge was fitted without feature names\n",
      "  warnings.warn(\n"
     ]
    },
    {
     "name": "stdout",
     "output_type": "stream",
     "text": [
      "Alpha: 0.14 | Lasso MSE: 436039728559524020224.00 | Lasso MAE: 17775683190.29 | Ridge MSE: 430658642081330888704.00 | Ridge MAE: 17670142487.67\n"
     ]
    },
    {
     "name": "stderr",
     "output_type": "stream",
     "text": [
      "c:\\Users\\mohamed ahmed\\AppData\\Local\\Programs\\Python\\Python313\\Lib\\site-packages\\sklearn\\base.py:486: UserWarning: X has feature names, but Lasso was fitted without feature names\n",
      "  warnings.warn(\n",
      "c:\\Users\\mohamed ahmed\\AppData\\Local\\Programs\\Python\\Python313\\Lib\\site-packages\\sklearn\\base.py:486: UserWarning: X has feature names, but Ridge was fitted without feature names\n",
      "  warnings.warn(\n"
     ]
    },
    {
     "name": "stdout",
     "output_type": "stream",
     "text": [
      "Alpha: 0.15 | Lasso MSE: 435962648604254076928.00 | Lasso MAE: 17774243469.11 | Ridge MSE: 430226663023817392128.00 | Ridge MAE: 17661708123.00\n"
     ]
    },
    {
     "name": "stderr",
     "output_type": "stream",
     "text": [
      "c:\\Users\\mohamed ahmed\\AppData\\Local\\Programs\\Python\\Python313\\Lib\\site-packages\\sklearn\\base.py:486: UserWarning: X has feature names, but Lasso was fitted without feature names\n",
      "  warnings.warn(\n",
      "c:\\Users\\mohamed ahmed\\AppData\\Local\\Programs\\Python\\Python313\\Lib\\site-packages\\sklearn\\base.py:486: UserWarning: X has feature names, but Ridge was fitted without feature names\n",
      "  warnings.warn(\n"
     ]
    },
    {
     "name": "stdout",
     "output_type": "stream",
     "text": [
      "Alpha: 0.15 | Lasso MSE: 435885647530798219264.00 | Lasso MAE: 17772805106.18 | Ridge MSE: 429795161840204775424.00 | Ridge MAE: 17653278803.23\n"
     ]
    },
    {
     "name": "stderr",
     "output_type": "stream",
     "text": [
      "c:\\Users\\mohamed ahmed\\AppData\\Local\\Programs\\Python\\Python313\\Lib\\site-packages\\sklearn\\base.py:486: UserWarning: X has feature names, but Lasso was fitted without feature names\n",
      "  warnings.warn(\n",
      "c:\\Users\\mohamed ahmed\\AppData\\Local\\Programs\\Python\\Python313\\Lib\\site-packages\\sklearn\\base.py:486: UserWarning: X has feature names, but Ridge was fitted without feature names\n",
      "  warnings.warn(\n"
     ]
    },
    {
     "name": "stdout",
     "output_type": "stream",
     "text": [
      "Alpha: 0.16 | Lasso MSE: 435808608138294460416.00 | Lasso MAE: 17771365887.36 | Ridge MSE: 429364137907573161984.00 | Ridge MAE: 17644854523.87\n"
     ]
    },
    {
     "name": "stderr",
     "output_type": "stream",
     "text": [
      "c:\\Users\\mohamed ahmed\\AppData\\Local\\Programs\\Python\\Python313\\Lib\\site-packages\\sklearn\\base.py:486: UserWarning: X has feature names, but Lasso was fitted without feature names\n",
      "  warnings.warn(\n",
      "c:\\Users\\mohamed ahmed\\AppData\\Local\\Programs\\Python\\Python313\\Lib\\site-packages\\sklearn\\base.py:486: UserWarning: X has feature names, but Ridge was fitted without feature names\n",
      "  warnings.warn(\n"
     ]
    },
    {
     "name": "stdout",
     "output_type": "stream",
     "text": [
      "Alpha: 0.17 | Lasso MSE: 435731600260570284032.00 | Lasso MAE: 17769927132.04 | Ridge MSE: 428933590604577308672.00 | Ridge MAE: 17636435280.44\n"
     ]
    },
    {
     "name": "stderr",
     "output_type": "stream",
     "text": [
      "c:\\Users\\mohamed ahmed\\AppData\\Local\\Programs\\Python\\Python313\\Lib\\site-packages\\sklearn\\base.py:486: UserWarning: X has feature names, but Lasso was fitted without feature names\n",
      "  warnings.warn(\n",
      "c:\\Users\\mohamed ahmed\\AppData\\Local\\Programs\\Python\\Python313\\Lib\\site-packages\\sklearn\\base.py:486: UserWarning: X has feature names, but Ridge was fitted without feature names\n",
      "  warnings.warn(\n"
     ]
    },
    {
     "name": "stdout",
     "output_type": "stream",
     "text": [
      "Alpha: 0.18 | Lasso MSE: 435654632964359192576.00 | Lasso MAE: 17768489011.70 | Ridge MSE: 428503519310939422720.00 | Ridge MAE: 17628021068.49\n"
     ]
    },
    {
     "name": "stderr",
     "output_type": "stream",
     "text": [
      "c:\\Users\\mohamed ahmed\\AppData\\Local\\Programs\\Python\\Python313\\Lib\\site-packages\\sklearn\\base.py:486: UserWarning: X has feature names, but Lasso was fitted without feature names\n",
      "  warnings.warn(\n",
      "c:\\Users\\mohamed ahmed\\AppData\\Local\\Programs\\Python\\Python313\\Lib\\site-packages\\sklearn\\base.py:486: UserWarning: X has feature names, but Ridge was fitted without feature names\n",
      "  warnings.warn(\n"
     ]
    },
    {
     "name": "stdout",
     "output_type": "stream",
     "text": [
      "Alpha: 0.19 | Lasso MSE: 435577555798909059072.00 | Lasso MAE: 17767048682.97 | Ridge MSE: 428073923406855602176.00 | Ridge MAE: 17619611883.54\n"
     ]
    },
    {
     "name": "stderr",
     "output_type": "stream",
     "text": [
      "c:\\Users\\mohamed ahmed\\AppData\\Local\\Programs\\Python\\Python313\\Lib\\site-packages\\sklearn\\base.py:486: UserWarning: X has feature names, but Lasso was fitted without feature names\n",
      "  warnings.warn(\n",
      "c:\\Users\\mohamed ahmed\\AppData\\Local\\Programs\\Python\\Python313\\Lib\\site-packages\\sklearn\\base.py:486: UserWarning: X has feature names, but Ridge was fitted without feature names\n",
      "  warnings.warn(\n"
     ]
    },
    {
     "name": "stdout",
     "output_type": "stream",
     "text": [
      "Alpha: 0.20 | Lasso MSE: 435500606748380233728.00 | Lasso MAE: 17765610643.61 | Ridge MSE: 427644802273972453376.00 | Ridge MAE: 17611207721.14\n"
     ]
    },
    {
     "name": "stderr",
     "output_type": "stream",
     "text": [
      "c:\\Users\\mohamed ahmed\\AppData\\Local\\Programs\\Python\\Python313\\Lib\\site-packages\\sklearn\\base.py:486: UserWarning: X has feature names, but Lasso was fitted without feature names\n",
      "  warnings.warn(\n",
      "c:\\Users\\mohamed ahmed\\AppData\\Local\\Programs\\Python\\Python313\\Lib\\site-packages\\sklearn\\base.py:486: UserWarning: X has feature names, but Ridge was fitted without feature names\n",
      "  warnings.warn(\n"
     ]
    },
    {
     "name": "stdout",
     "output_type": "stream",
     "text": [
      "Alpha: 0.21 | Lasso MSE: 435423631738310426624.00 | Lasso MAE: 17764171981.66 | Ridge MSE: 427216155294565466112.00 | Ridge MAE: 17602808576.82\n"
     ]
    },
    {
     "name": "stderr",
     "output_type": "stream",
     "text": [
      "c:\\Users\\mohamed ahmed\\AppData\\Local\\Programs\\Python\\Python313\\Lib\\site-packages\\sklearn\\base.py:486: UserWarning: X has feature names, but Lasso was fitted without feature names\n",
      "  warnings.warn(\n",
      "c:\\Users\\mohamed ahmed\\AppData\\Local\\Programs\\Python\\Python313\\Lib\\site-packages\\sklearn\\base.py:486: UserWarning: X has feature names, but Ridge was fitted without feature names\n",
      "  warnings.warn(\n"
     ]
    },
    {
     "name": "stdout",
     "output_type": "stream",
     "text": [
      "Alpha: 0.22 | Lasso MSE: 435346629304838455296.00 | Lasso MAE: 17762732669.29 | Ridge MSE: 426787981851966898176.00 | Ridge MAE: 17594414446.15\n"
     ]
    },
    {
     "name": "stderr",
     "output_type": "stream",
     "text": [
      "c:\\Users\\mohamed ahmed\\AppData\\Local\\Programs\\Python\\Python313\\Lib\\site-packages\\sklearn\\base.py:486: UserWarning: X has feature names, but Lasso was fitted without feature names\n",
      "  warnings.warn(\n",
      "c:\\Users\\mohamed ahmed\\AppData\\Local\\Programs\\Python\\Python313\\Lib\\site-packages\\sklearn\\base.py:486: UserWarning: X has feature names, but Ridge was fitted without feature names\n",
      "  warnings.warn(\n"
     ]
    },
    {
     "name": "stdout",
     "output_type": "stream",
     "text": [
      "Alpha: 0.23 | Lasso MSE: 435269693111706189824.00 | Lasso MAE: 17761294477.22 | Ridge MSE: 426360281330693898240.00 | Ridge MAE: 17586025324.67\n"
     ]
    },
    {
     "name": "stderr",
     "output_type": "stream",
     "text": [
      "c:\\Users\\mohamed ahmed\\AppData\\Local\\Programs\\Python\\Python313\\Lib\\site-packages\\sklearn\\base.py:486: UserWarning: X has feature names, but Lasso was fitted without feature names\n",
      "  warnings.warn(\n",
      "c:\\Users\\mohamed ahmed\\AppData\\Local\\Programs\\Python\\Python313\\Lib\\site-packages\\sklearn\\base.py:486: UserWarning: X has feature names, but Ridge was fitted without feature names\n",
      "  warnings.warn(\n"
     ]
    },
    {
     "name": "stdout",
     "output_type": "stream",
     "text": [
      "Alpha: 0.24 | Lasso MSE: 435192734382926856192.00 | Lasso MAE: 17759855727.12 | Ridge MSE: 425933053115934965760.00 | Ridge MAE: 17577641207.95\n"
     ]
    },
    {
     "name": "stderr",
     "output_type": "stream",
     "text": [
      "c:\\Users\\mohamed ahmed\\AppData\\Local\\Programs\\Python\\Python313\\Lib\\site-packages\\sklearn\\base.py:486: UserWarning: X has feature names, but Lasso was fitted without feature names\n",
      "  warnings.warn(\n",
      "c:\\Users\\mohamed ahmed\\AppData\\Local\\Programs\\Python\\Python313\\Lib\\site-packages\\sklearn\\base.py:486: UserWarning: X has feature names, but Ridge was fitted without feature names\n",
      "  warnings.warn(\n"
     ]
    },
    {
     "name": "stdout",
     "output_type": "stream",
     "text": [
      "Alpha: 0.25 | Lasso MSE: 435115751956226506752.00 | Lasso MAE: 17758416396.85 | Ridge MSE: 425506296593558339584.00 | Ridge MAE: 17569262091.55\n"
     ]
    },
    {
     "name": "stderr",
     "output_type": "stream",
     "text": [
      "c:\\Users\\mohamed ahmed\\AppData\\Local\\Programs\\Python\\Python313\\Lib\\site-packages\\sklearn\\base.py:486: UserWarning: X has feature names, but Lasso was fitted without feature names\n",
      "  warnings.warn(\n",
      "c:\\Users\\mohamed ahmed\\AppData\\Local\\Programs\\Python\\Python313\\Lib\\site-packages\\sklearn\\base.py:486: UserWarning: X has feature names, but Ridge was fitted without feature names\n",
      "  warnings.warn(\n"
     ]
    },
    {
     "name": "stdout",
     "output_type": "stream",
     "text": [
      "Alpha: 0.25 | Lasso MSE: 435038744623397994496.00 | Lasso MAE: 17756976463.39 | Ridge MSE: 425080011151272116224.00 | Ridge MAE: 17560887971.05\n"
     ]
    },
    {
     "name": "stderr",
     "output_type": "stream",
     "text": [
      "c:\\Users\\mohamed ahmed\\AppData\\Local\\Programs\\Python\\Python313\\Lib\\site-packages\\sklearn\\base.py:486: UserWarning: X has feature names, but Lasso was fitted without feature names\n",
      "  warnings.warn(\n",
      "c:\\Users\\mohamed ahmed\\AppData\\Local\\Programs\\Python\\Python313\\Lib\\site-packages\\sklearn\\base.py:486: UserWarning: X has feature names, but Ridge was fitted without feature names\n",
      "  warnings.warn(\n"
     ]
    },
    {
     "name": "stdout",
     "output_type": "stream",
     "text": [
      "Alpha: 0.26 | Lasso MSE: 434961821763773530112.00 | Lasso MAE: 17755537995.41 | Ridge MSE: 424654196176881778688.00 | Ridge MAE: 17552518842.03\n"
     ]
    },
    {
     "name": "stderr",
     "output_type": "stream",
     "text": [
      "c:\\Users\\mohamed ahmed\\AppData\\Local\\Programs\\Python\\Python313\\Lib\\site-packages\\sklearn\\base.py:486: UserWarning: X has feature names, but Lasso was fitted without feature names\n",
      "  warnings.warn(\n",
      "c:\\Users\\mohamed ahmed\\AppData\\Local\\Programs\\Python\\Python313\\Lib\\site-packages\\sklearn\\base.py:486: UserWarning: X has feature names, but Ridge was fitted without feature names\n",
      "  warnings.warn(\n"
     ]
    },
    {
     "name": "stdout",
     "output_type": "stream",
     "text": [
      "Alpha: 0.27 | Lasso MSE: 434884879631828320256.00 | Lasso MAE: 17754099030.87 | Ridge MSE: 424228851059644235776.00 | Ridge MAE: 17544154700.05\n"
     ]
    },
    {
     "name": "stderr",
     "output_type": "stream",
     "text": [
      "c:\\Users\\mohamed ahmed\\AppData\\Local\\Programs\\Python\\Python313\\Lib\\site-packages\\sklearn\\base.py:486: UserWarning: X has feature names, but Lasso was fitted without feature names\n",
      "  warnings.warn(\n",
      "c:\\Users\\mohamed ahmed\\AppData\\Local\\Programs\\Python\\Python313\\Lib\\site-packages\\sklearn\\base.py:486: UserWarning: X has feature names, but Ridge was fitted without feature names\n",
      "  warnings.warn(\n"
     ]
    },
    {
     "name": "stdout",
     "output_type": "stream",
     "text": [
      "Alpha: 0.28 | Lasso MSE: 434807917326189068288.00 | Lasso MAE: 17752659552.57 | Ridge MSE: 423803975189314142208.00 | Ridge MAE: 17535795540.72\n"
     ]
    },
    {
     "name": "stderr",
     "output_type": "stream",
     "text": [
      "c:\\Users\\mohamed ahmed\\AppData\\Local\\Programs\\Python\\Python313\\Lib\\site-packages\\sklearn\\base.py:486: UserWarning: X has feature names, but Lasso was fitted without feature names\n",
      "  warnings.warn(\n",
      "c:\\Users\\mohamed ahmed\\AppData\\Local\\Programs\\Python\\Python313\\Lib\\site-packages\\sklearn\\base.py:486: UserWarning: X has feature names, but Ridge was fitted without feature names\n",
      "  warnings.warn(\n"
     ]
    },
    {
     "name": "stdout",
     "output_type": "stream",
     "text": [
      "Alpha: 0.29 | Lasso MSE: 434731055810750251008.00 | Lasso MAE: 17751221848.94 | Ridge MSE: 423379567957269610496.00 | Ridge MAE: 17527441359.62\n"
     ]
    },
    {
     "name": "stderr",
     "output_type": "stream",
     "text": [
      "c:\\Users\\mohamed ahmed\\AppData\\Local\\Programs\\Python\\Python313\\Lib\\site-packages\\sklearn\\base.py:486: UserWarning: X has feature names, but Lasso was fitted without feature names\n",
      "  warnings.warn(\n",
      "c:\\Users\\mohamed ahmed\\AppData\\Local\\Programs\\Python\\Python313\\Lib\\site-packages\\sklearn\\base.py:486: UserWarning: X has feature names, but Ridge was fitted without feature names\n",
      "  warnings.warn(\n"
     ]
    },
    {
     "name": "stdout",
     "output_type": "stream",
     "text": [
      "Alpha: 0.30 | Lasso MSE: 434654180026770915328.00 | Lasso MAE: 17749783743.43 | Ridge MSE: 422955628755037782016.00 | Ridge MAE: 17519092152.35\n"
     ]
    },
    {
     "name": "stderr",
     "output_type": "stream",
     "text": [
      "c:\\Users\\mohamed ahmed\\AppData\\Local\\Programs\\Python\\Python313\\Lib\\site-packages\\sklearn\\base.py:486: UserWarning: X has feature names, but Lasso was fitted without feature names\n",
      "  warnings.warn(\n",
      "c:\\Users\\mohamed ahmed\\AppData\\Local\\Programs\\Python\\Python313\\Lib\\site-packages\\sklearn\\base.py:486: UserWarning: X has feature names, but Ridge was fitted without feature names\n",
      "  warnings.warn(\n"
     ]
    },
    {
     "name": "stdout",
     "output_type": "stream",
     "text": [
      "Alpha: 0.31 | Lasso MSE: 434577160159717556224.00 | Lasso MAE: 17748342779.46 | Ridge MSE: 422532156975506456576.00 | Ridge MAE: 17510747914.51\n"
     ]
    },
    {
     "name": "stderr",
     "output_type": "stream",
     "text": [
      "c:\\Users\\mohamed ahmed\\AppData\\Local\\Programs\\Python\\Python313\\Lib\\site-packages\\sklearn\\base.py:486: UserWarning: X has feature names, but Lasso was fitted without feature names\n",
      "  warnings.warn(\n",
      "c:\\Users\\mohamed ahmed\\AppData\\Local\\Programs\\Python\\Python313\\Lib\\site-packages\\sklearn\\base.py:486: UserWarning: X has feature names, but Ridge was fitted without feature names\n",
      "  warnings.warn(\n"
     ]
    },
    {
     "name": "stdout",
     "output_type": "stream",
     "text": [
      "Alpha: 0.32 | Lasso MSE: 434500383144989425664.00 | Lasso MAE: 17746906278.85 | Ridge MSE: 422109152012748324864.00 | Ridge MAE: 17502408641.72\n"
     ]
    },
    {
     "name": "stderr",
     "output_type": "stream",
     "text": [
      "c:\\Users\\mohamed ahmed\\AppData\\Local\\Programs\\Python\\Python313\\Lib\\site-packages\\sklearn\\base.py:486: UserWarning: X has feature names, but Lasso was fitted without feature names\n",
      "  warnings.warn(\n",
      "c:\\Users\\mohamed ahmed\\AppData\\Local\\Programs\\Python\\Python313\\Lib\\site-packages\\sklearn\\base.py:486: UserWarning: X has feature names, but Ridge was fitted without feature names\n",
      "  warnings.warn(\n"
     ]
    },
    {
     "name": "stdout",
     "output_type": "stream",
     "text": [
      "Alpha: 0.33 | Lasso MSE: 434423460746325655552.00 | Lasso MAE: 17745466894.93 | Ridge MSE: 421686613261083279360.00 | Ridge MAE: 17494074329.57\n"
     ]
    },
    {
     "name": "stderr",
     "output_type": "stream",
     "text": [
      "c:\\Users\\mohamed ahmed\\AppData\\Local\\Programs\\Python\\Python313\\Lib\\site-packages\\sklearn\\base.py:486: UserWarning: X has feature names, but Lasso was fitted without feature names\n",
      "  warnings.warn(\n",
      "c:\\Users\\mohamed ahmed\\AppData\\Local\\Programs\\Python\\Python313\\Lib\\site-packages\\sklearn\\base.py:486: UserWarning: X has feature names, but Ridge was fitted without feature names\n",
      "  warnings.warn(\n"
     ]
    },
    {
     "name": "stdout",
     "output_type": "stream",
     "text": [
      "Alpha: 0.34 | Lasso MSE: 434346521476618977280.00 | Lasso MAE: 17744027059.41 | Ridge MSE: 421264540116704296960.00 | Ridge MAE: 17485744973.71\n"
     ]
    },
    {
     "name": "stderr",
     "output_type": "stream",
     "text": [
      "c:\\Users\\mohamed ahmed\\AppData\\Local\\Programs\\Python\\Python313\\Lib\\site-packages\\sklearn\\base.py:486: UserWarning: X has feature names, but Lasso was fitted without feature names\n",
      "  warnings.warn(\n",
      "c:\\Users\\mohamed ahmed\\AppData\\Local\\Programs\\Python\\Python313\\Lib\\site-packages\\sklearn\\base.py:486: UserWarning: X has feature names, but Ridge was fitted without feature names\n",
      "  warnings.warn(\n"
     ]
    },
    {
     "name": "stdout",
     "output_type": "stream",
     "text": [
      "Alpha: 0.35 | Lasso MSE: 434269709052288958464.00 | Lasso MAE: 17742589492.70 | Ridge MSE: 420842931975554465792.00 | Ridge MAE: 17477420569.73\n"
     ]
    },
    {
     "name": "stderr",
     "output_type": "stream",
     "text": [
      "c:\\Users\\mohamed ahmed\\AppData\\Local\\Programs\\Python\\Python313\\Lib\\site-packages\\sklearn\\base.py:486: UserWarning: X has feature names, but Lasso was fitted without feature names\n",
      "  warnings.warn(\n",
      "c:\\Users\\mohamed ahmed\\AppData\\Local\\Programs\\Python\\Python313\\Lib\\site-packages\\sklearn\\base.py:486: UserWarning: X has feature names, but Ridge was fitted without feature names\n",
      "  warnings.warn(\n"
     ]
    },
    {
     "name": "stdout",
     "output_type": "stream",
     "text": [
      "Alpha: 0.35 | Lasso MSE: 434192738180989648896.00 | Lasso MAE: 17741148794.38 | Ridge MSE: 420421788235657510912.00 | Ridge MAE: 17469101113.28\n"
     ]
    },
    {
     "name": "stderr",
     "output_type": "stream",
     "text": [
      "c:\\Users\\mohamed ahmed\\AppData\\Local\\Programs\\Python\\Python313\\Lib\\site-packages\\sklearn\\base.py:486: UserWarning: X has feature names, but Lasso was fitted without feature names\n",
      "  warnings.warn(\n",
      "c:\\Users\\mohamed ahmed\\AppData\\Local\\Programs\\Python\\Python313\\Lib\\site-packages\\sklearn\\base.py:486: UserWarning: X has feature names, but Ridge was fitted without feature names\n",
      "  warnings.warn(\n"
     ]
    },
    {
     "name": "stdout",
     "output_type": "stream",
     "text": [
      "Alpha: 0.36 | Lasso MSE: 434115900720413868032.00 | Lasso MAE: 17739710489.44 | Ridge MSE: 420001108295463600128.00 | Ridge MAE: 17460786599.98\n"
     ]
    },
    {
     "name": "stderr",
     "output_type": "stream",
     "text": [
      "c:\\Users\\mohamed ahmed\\AppData\\Local\\Programs\\Python\\Python313\\Lib\\site-packages\\sklearn\\base.py:486: UserWarning: X has feature names, but Lasso was fitted without feature names\n",
      "  warnings.warn(\n",
      "c:\\Users\\mohamed ahmed\\AppData\\Local\\Programs\\Python\\Python313\\Lib\\site-packages\\sklearn\\base.py:486: UserWarning: X has feature names, but Ridge was fitted without feature names\n",
      "  warnings.warn(\n"
     ]
    },
    {
     "name": "stdout",
     "output_type": "stream",
     "text": [
      "Alpha: 0.37 | Lasso MSE: 434039051817592356864.00 | Lasso MAE: 17738271835.72 | Ridge MSE: 419580891554100281344.00 | Ridge MAE: 17452477025.48\n"
     ]
    },
    {
     "name": "stderr",
     "output_type": "stream",
     "text": [
      "c:\\Users\\mohamed ahmed\\AppData\\Local\\Programs\\Python\\Python313\\Lib\\site-packages\\sklearn\\base.py:486: UserWarning: X has feature names, but Lasso was fitted without feature names\n",
      "  warnings.warn(\n",
      "c:\\Users\\mohamed ahmed\\AppData\\Local\\Programs\\Python\\Python313\\Lib\\site-packages\\sklearn\\base.py:486: UserWarning: X has feature names, but Ridge was fitted without feature names\n",
      "  warnings.warn(\n"
     ]
    },
    {
     "name": "stdout",
     "output_type": "stream",
     "text": [
      "Alpha: 0.38 | Lasso MSE: 433962191024733683712.00 | Lasso MAE: 17736832824.66 | Ridge MSE: 419161137411973709824.00 | Ridge MAE: 17444172385.42\n"
     ]
    },
    {
     "name": "stderr",
     "output_type": "stream",
     "text": [
      "c:\\Users\\mohamed ahmed\\AppData\\Local\\Programs\\Python\\Python313\\Lib\\site-packages\\sklearn\\base.py:486: UserWarning: X has feature names, but Lasso was fitted without feature names\n",
      "  warnings.warn(\n",
      "c:\\Users\\mohamed ahmed\\AppData\\Local\\Programs\\Python\\Python313\\Lib\\site-packages\\sklearn\\base.py:486: UserWarning: X has feature names, but Ridge was fitted without feature names\n",
      "  warnings.warn(\n"
     ]
    },
    {
     "name": "stdout",
     "output_type": "stream",
     "text": [
      "Alpha: 0.39 | Lasso MSE: 433885317883013496832.00 | Lasso MAE: 17735393447.46 | Ridge MSE: 418741845270509191168.00 | Ridge MAE: 17435872675.44\n"
     ]
    },
    {
     "name": "stderr",
     "output_type": "stream",
     "text": [
      "c:\\Users\\mohamed ahmed\\AppData\\Local\\Programs\\Python\\Python313\\Lib\\site-packages\\sklearn\\base.py:486: UserWarning: X has feature names, but Lasso was fitted without feature names\n",
      "  warnings.warn(\n",
      "c:\\Users\\mohamed ahmed\\AppData\\Local\\Programs\\Python\\Python313\\Lib\\site-packages\\sklearn\\base.py:486: UserWarning: X has feature names, but Ridge was fitted without feature names\n",
      "  warnings.warn(\n"
     ]
    },
    {
     "name": "stdout",
     "output_type": "stream",
     "text": [
      "Alpha: 0.40 | Lasso MSE: 433808431922332827648.00 | Lasso MAE: 17733953695.13 | Ridge MSE: 418323014531706847232.00 | Ridge MAE: 17427577891.20\n"
     ]
    },
    {
     "name": "stderr",
     "output_type": "stream",
     "text": [
      "c:\\Users\\mohamed ahmed\\AppData\\Local\\Programs\\Python\\Python313\\Lib\\site-packages\\sklearn\\base.py:486: UserWarning: X has feature names, but Lasso was fitted without feature names\n",
      "  warnings.warn(\n",
      "c:\\Users\\mohamed ahmed\\AppData\\Local\\Programs\\Python\\Python313\\Lib\\site-packages\\sklearn\\base.py:486: UserWarning: X has feature names, but Ridge was fitted without feature names\n",
      "  warnings.warn(\n"
     ]
    },
    {
     "name": "stdout",
     "output_type": "stream",
     "text": [
      "Alpha: 0.41 | Lasso MSE: 433731703734194274304.00 | Lasso MAE: 17732516798.90 | Ridge MSE: 417904644598711517184.00 | Ridge MAE: 17419288028.37\n"
     ]
    },
    {
     "name": "stderr",
     "output_type": "stream",
     "text": [
      "c:\\Users\\mohamed ahmed\\AppData\\Local\\Programs\\Python\\Python313\\Lib\\site-packages\\sklearn\\base.py:486: UserWarning: X has feature names, but Lasso was fitted without feature names\n",
      "  warnings.warn(\n",
      "c:\\Users\\mohamed ahmed\\AppData\\Local\\Programs\\Python\\Python313\\Lib\\site-packages\\sklearn\\base.py:486: UserWarning: X has feature names, but Ridge was fitted without feature names\n",
      "  warnings.warn(\n"
     ]
    },
    {
     "name": "stdout",
     "output_type": "stream",
     "text": [
      "Alpha: 0.42 | Lasso MSE: 433654794869554085888.00 | Lasso MAE: 17731076348.07 | Ridge MSE: 417486734875351646208.00 | Ridge MAE: 17411003082.59\n"
     ]
    },
    {
     "name": "stderr",
     "output_type": "stream",
     "text": [
      "c:\\Users\\mohamed ahmed\\AppData\\Local\\Programs\\Python\\Python313\\Lib\\site-packages\\sklearn\\base.py:486: UserWarning: X has feature names, but Lasso was fitted without feature names\n",
      "  warnings.warn(\n",
      "c:\\Users\\mohamed ahmed\\AppData\\Local\\Programs\\Python\\Python313\\Lib\\site-packages\\sklearn\\base.py:486: UserWarning: X has feature names, but Ridge was fitted without feature names\n",
      "  warnings.warn(\n"
     ]
    },
    {
     "name": "stdout",
     "output_type": "stream",
     "text": [
      "Alpha: 0.43 | Lasso MSE: 433578050492751806464.00 | Lasso MAE: 17729638880.96 | Ridge MSE: 417069284767157649408.00 | Ridge MAE: 17402723049.55\n"
     ]
    },
    {
     "name": "stderr",
     "output_type": "stream",
     "text": [
      "c:\\Users\\mohamed ahmed\\AppData\\Local\\Programs\\Python\\Python313\\Lib\\site-packages\\sklearn\\base.py:486: UserWarning: X has feature names, but Lasso was fitted without feature names\n",
      "  warnings.warn(\n",
      "c:\\Users\\mohamed ahmed\\AppData\\Local\\Programs\\Python\\Python313\\Lib\\site-packages\\sklearn\\base.py:486: UserWarning: X has feature names, but Ridge was fitted without feature names\n",
      "  warnings.warn(\n"
     ]
    },
    {
     "name": "stdout",
     "output_type": "stream",
     "text": [
      "Alpha: 0.44 | Lasso MSE: 433501299268765745152.00 | Lasso MAE: 17728201152.08 | Ridge MSE: 416652293679220654080.00 | Ridge MAE: 17394447924.91\n"
     ]
    },
    {
     "name": "stderr",
     "output_type": "stream",
     "text": [
      "c:\\Users\\mohamed ahmed\\AppData\\Local\\Programs\\Python\\Python313\\Lib\\site-packages\\sklearn\\base.py:486: UserWarning: X has feature names, but Lasso was fitted without feature names\n",
      "  warnings.warn(\n",
      "c:\\Users\\mohamed ahmed\\AppData\\Local\\Programs\\Python\\Python313\\Lib\\site-packages\\sklearn\\base.py:486: UserWarning: X has feature names, but Ridge was fitted without feature names\n",
      "  warnings.warn(\n"
     ]
    },
    {
     "name": "stdout",
     "output_type": "stream",
     "text": [
      "Alpha: 0.45 | Lasso MSE: 433424355201969029120.00 | Lasso MAE: 17726759636.92 | Ridge MSE: 416235761018679197696.00 | Ridge MAE: 17386177704.35\n"
     ]
    },
    {
     "name": "stderr",
     "output_type": "stream",
     "text": [
      "c:\\Users\\mohamed ahmed\\AppData\\Local\\Programs\\Python\\Python313\\Lib\\site-packages\\sklearn\\base.py:486: UserWarning: X has feature names, but Lasso was fitted without feature names\n",
      "  warnings.warn(\n",
      "c:\\Users\\mohamed ahmed\\AppData\\Local\\Programs\\Python\\Python313\\Lib\\site-packages\\sklearn\\base.py:486: UserWarning: X has feature names, but Ridge was fitted without feature names\n",
      "  warnings.warn(\n"
     ]
    },
    {
     "name": "stdout",
     "output_type": "stream",
     "text": [
      "Alpha: 0.45 | Lasso MSE: 433347585851337867264.00 | Lasso MAE: 17725321299.96 | Ridge MSE: 415819686193284907008.00 | Ridge MAE: 17377912383.57\n"
     ]
    },
    {
     "name": "stderr",
     "output_type": "stream",
     "text": [
      "c:\\Users\\mohamed ahmed\\AppData\\Local\\Programs\\Python\\Python313\\Lib\\site-packages\\sklearn\\base.py:486: UserWarning: X has feature names, but Lasso was fitted without feature names\n",
      "  warnings.warn(\n",
      "c:\\Users\\mohamed ahmed\\AppData\\Local\\Programs\\Python\\Python313\\Lib\\site-packages\\sklearn\\base.py:486: UserWarning: X has feature names, but Ridge was fitted without feature names\n",
      "  warnings.warn(\n"
     ]
    },
    {
     "name": "stdout",
     "output_type": "stream",
     "text": [
      "Alpha: 0.46 | Lasso MSE: 433270808765414572032.00 | Lasso MAE: 17723882684.15 | Ridge MSE: 415404068611346595840.00 | Ridge MAE: 17369651958.23\n"
     ]
    },
    {
     "name": "stderr",
     "output_type": "stream",
     "text": [
      "c:\\Users\\mohamed ahmed\\AppData\\Local\\Programs\\Python\\Python313\\Lib\\site-packages\\sklearn\\base.py:486: UserWarning: X has feature names, but Lasso was fitted without feature names\n",
      "  warnings.warn(\n",
      "c:\\Users\\mohamed ahmed\\AppData\\Local\\Programs\\Python\\Python313\\Lib\\site-packages\\sklearn\\base.py:486: UserWarning: X has feature names, but Ridge was fitted without feature names\n",
      "  warnings.warn(\n"
     ]
    },
    {
     "name": "stdout",
     "output_type": "stream",
     "text": [
      "Alpha: 0.47 | Lasso MSE: 433194023659617583104.00 | Lasso MAE: 17722443784.03 | Ridge MSE: 414988907682961424384.00 | Ridge MAE: 17361396424.06\n"
     ]
    },
    {
     "name": "stderr",
     "output_type": "stream",
     "text": [
      "c:\\Users\\mohamed ahmed\\AppData\\Local\\Programs\\Python\\Python313\\Lib\\site-packages\\sklearn\\base.py:486: UserWarning: X has feature names, but Lasso was fitted without feature names\n",
      "  warnings.warn(\n",
      "c:\\Users\\mohamed ahmed\\AppData\\Local\\Programs\\Python\\Python313\\Lib\\site-packages\\sklearn\\base.py:486: UserWarning: X has feature names, but Ridge was fitted without feature names\n",
      "  warnings.warn(\n"
     ]
    },
    {
     "name": "stdout",
     "output_type": "stream",
     "text": [
      "Alpha: 0.48 | Lasso MSE: 433117230244026777600.00 | Lasso MAE: 17721004594.03 | Ridge MSE: 414574202817999667200.00 | Ridge MAE: 17353145776.73\n"
     ]
    },
    {
     "name": "stderr",
     "output_type": "stream",
     "text": [
      "c:\\Users\\mohamed ahmed\\AppData\\Local\\Programs\\Python\\Python313\\Lib\\site-packages\\sklearn\\base.py:486: UserWarning: X has feature names, but Lasso was fitted without feature names\n",
      "  warnings.warn(\n",
      "c:\\Users\\mohamed ahmed\\AppData\\Local\\Programs\\Python\\Python313\\Lib\\site-packages\\sklearn\\base.py:486: UserWarning: X has feature names, but Ridge was fitted without feature names\n",
      "  warnings.warn(\n"
     ]
    },
    {
     "name": "stdout",
     "output_type": "stream",
     "text": [
      "Alpha: 0.49 | Lasso MSE: 433040428222699077632.00 | Lasso MAE: 17719565108.46 | Ridge MSE: 414159953427839123456.00 | Ridge MAE: 17344900011.95\n"
     ]
    },
    {
     "name": "stderr",
     "output_type": "stream",
     "text": [
      "c:\\Users\\mohamed ahmed\\AppData\\Local\\Programs\\Python\\Python313\\Lib\\site-packages\\sklearn\\base.py:486: UserWarning: X has feature names, but Lasso was fitted without feature names\n",
      "  warnings.warn(\n",
      "c:\\Users\\mohamed ahmed\\AppData\\Local\\Programs\\Python\\Python313\\Lib\\site-packages\\sklearn\\base.py:486: UserWarning: X has feature names, but Ridge was fitted without feature names\n",
      "  warnings.warn(\n"
     ]
    },
    {
     "name": "stdout",
     "output_type": "stream",
     "text": [
      "Alpha: 0.50 | Lasso MSE: 432963825865070804992.00 | Lasso MAE: 17718129275.90 | Ridge MSE: 413746158924793577472.00 | Ridge MAE: 17336659125.44\n"
     ]
    },
    {
     "name": "stderr",
     "output_type": "stream",
     "text": [
      "c:\\Users\\mohamed ahmed\\AppData\\Local\\Programs\\Python\\Python313\\Lib\\site-packages\\sklearn\\base.py:486: UserWarning: X has feature names, but Lasso was fitted without feature names\n",
      "  warnings.warn(\n",
      "c:\\Users\\mohamed ahmed\\AppData\\Local\\Programs\\Python\\Python313\\Lib\\site-packages\\sklearn\\base.py:486: UserWarning: X has feature names, but Ridge was fitted without feature names\n",
      "  warnings.warn(\n"
     ]
    },
    {
     "name": "stdout",
     "output_type": "stream",
     "text": [
      "Alpha: 0.51 | Lasso MSE: 432887009793465253888.00 | Lasso MAE: 17716689259.24 | Ridge MSE: 413332818722367275008.00 | Ridge MAE: 17328423112.90\n"
     ]
    },
    {
     "name": "stderr",
     "output_type": "stream",
     "text": [
      "c:\\Users\\mohamed ahmed\\AppData\\Local\\Programs\\Python\\Python313\\Lib\\site-packages\\sklearn\\base.py:486: UserWarning: X has feature names, but Lasso was fitted without feature names\n",
      "  warnings.warn(\n",
      "c:\\Users\\mohamed ahmed\\AppData\\Local\\Programs\\Python\\Python313\\Lib\\site-packages\\sklearn\\base.py:486: UserWarning: X has feature names, but Ridge was fitted without feature names\n",
      "  warnings.warn(\n"
     ]
    },
    {
     "name": "stdout",
     "output_type": "stream",
     "text": [
      "Alpha: 0.52 | Lasso MSE: 432810184273298653184.00 | Lasso MAE: 17715248930.78 | Ridge MSE: 412919932233944203264.00 | Ridge MAE: 17320191970.06\n"
     ]
    },
    {
     "name": "stderr",
     "output_type": "stream",
     "text": [
      "c:\\Users\\mohamed ahmed\\AppData\\Local\\Programs\\Python\\Python313\\Lib\\site-packages\\sklearn\\base.py:486: UserWarning: X has feature names, but Lasso was fitted without feature names\n",
      "  warnings.warn(\n",
      "c:\\Users\\mohamed ahmed\\AppData\\Local\\Programs\\Python\\Python313\\Lib\\site-packages\\sklearn\\base.py:486: UserWarning: X has feature names, but Ridge was fitted without feature names\n",
      "  warnings.warn(\n"
     ]
    },
    {
     "name": "stdout",
     "output_type": "stream",
     "text": [
      "Alpha: 0.53 | Lasso MSE: 432733568938552459264.00 | Lasso MAE: 17713812455.74 | Ridge MSE: 412507498874945863680.00 | Ridge MAE: 17311965692.64\n"
     ]
    },
    {
     "name": "stderr",
     "output_type": "stream",
     "text": [
      "c:\\Users\\mohamed ahmed\\AppData\\Local\\Programs\\Python\\Python313\\Lib\\site-packages\\sklearn\\base.py:486: UserWarning: X has feature names, but Lasso was fitted without feature names\n",
      "  warnings.warn(\n",
      "c:\\Users\\mohamed ahmed\\AppData\\Local\\Programs\\Python\\Python313\\Lib\\site-packages\\sklearn\\base.py:486: UserWarning: X has feature names, but Ridge was fitted without feature names\n",
      "  warnings.warn(\n"
     ]
    },
    {
     "name": "stdout",
     "output_type": "stream",
     "text": [
      "Alpha: 0.54 | Lasso MSE: 432656727854837071872.00 | Lasso MAE: 17712371567.06 | Ridge MSE: 412095518061128974336.00 | Ridge MAE: 17303744276.37\n"
     ]
    },
    {
     "name": "stderr",
     "output_type": "stream",
     "text": [
      "c:\\Users\\mohamed ahmed\\AppData\\Local\\Programs\\Python\\Python313\\Lib\\site-packages\\sklearn\\base.py:486: UserWarning: X has feature names, but Lasso was fitted without feature names\n",
      "  warnings.warn(\n",
      "c:\\Users\\mohamed ahmed\\AppData\\Local\\Programs\\Python\\Python313\\Lib\\site-packages\\sklearn\\base.py:486: UserWarning: X has feature names, but Ridge was fitted without feature names\n",
      "  warnings.warn(\n"
     ]
    },
    {
     "name": "stdout",
     "output_type": "stream",
     "text": [
      "Alpha: 0.55 | Lasso MSE: 432580103946520231936.00 | Lasso MAE: 17710934664.99 | Ridge MSE: 411683989208741576704.00 | Ridge MAE: 17295527716.97\n"
     ]
    },
    {
     "name": "stderr",
     "output_type": "stream",
     "text": [
      "c:\\Users\\mohamed ahmed\\AppData\\Local\\Programs\\Python\\Python313\\Lib\\site-packages\\sklearn\\base.py:486: UserWarning: X has feature names, but Lasso was fitted without feature names\n",
      "  warnings.warn(\n",
      "c:\\Users\\mohamed ahmed\\AppData\\Local\\Programs\\Python\\Python313\\Lib\\site-packages\\sklearn\\base.py:486: UserWarning: X has feature names, but Ridge was fitted without feature names\n",
      "  warnings.warn(\n"
     ]
    },
    {
     "name": "stdout",
     "output_type": "stream",
     "text": [
      "Alpha: 0.55 | Lasso MSE: 432503246294012592128.00 | Lasso MAE: 17709493196.71 | Ridge MSE: 411272911736122966016.00 | Ridge MAE: 17287316010.20\n"
     ]
    }
   ],
   "source": [
    "lasso_mses = []  # To store MSE for Lasso\n",
    "ridge_mses = []  # To store MSE for Ridge\n",
    "lasso_maes = []  # To store MAE for Lasso\n",
    "ridge_maes = []  # To store MAE for Ridge\n",
    "alphas1 = np.linspace(0.1,1,num=100)\n",
    "alphas2 = np.linspace(1,100,num=100)\n",
    "alphas3 = np.linspace(1,10,num=100)\n",
    "alphas = np.concatenate([alphas1,alphas2,alphas3])\n",
    "for alpha in alphas:\n",
    "    lasso_reg = Lasso(alpha=alpha, max_iter=4000)\n",
    "    ridge_reg = Ridge(alpha=alpha, max_iter=4000)\n",
    "    lasso_reg.fit(X_train, Y_train)\n",
    "    lasso_pred = lasso_reg.predict(X_validate)\n",
    "    lasso_mse = mean_squared_error(Y_validate, lasso_pred)\n",
    "    ridge_reg.fit(X_train, Y_train)\n",
    "    ridge_pred = ridge_reg.predict(X_validate)\n",
    "    ridge_mse = mean_squared_error(Y_validate, ridge_pred)\n",
    "    lasso_mae=mean_absolute_error(Y_validate, lasso_pred)\n",
    "    ridge_mae=mean_absolute_error(Y_validate, ridge_pred)\n",
    "    lasso_mses.append(lasso_mse)\n",
    "    lasso_maes.append(lasso_mae)\n",
    "    ridge_mses.append(ridge_mse)\n",
    "    ridge_maes.append(ridge_mae)\n",
    "    print(f\"Alpha: {alpha:.2f} | Lasso MSE: {lasso_mse:.2f} | Lasso MAE: {lasso_mae:.2f} | Ridge MSE: {ridge_mse:.2f} | Ridge MAE: {ridge_mae:.2f}\")\n",
    "best_lasso_alpha = alphas[np.argmin(lasso_mses)]\n",
    "best_ridge_alpha = alphas[np.argmin(ridge_mses)]\n",
    "print(\"Best Lasso alpha:\", best_lasso_alpha)\n",
    "print(\"Best Ridge alpha:\", best_ridge_alpha)\n"
   ]
  },
  {
   "cell_type": "markdown",
   "metadata": {},
   "source": [
    "defining 4 lists to hold the values of each mean sqaure error and mean abdolute error for both ridge and lasso  \n",
    "defining 1000 value of alpha from (10^(-4) to 100)   \n",
    "make lasso and ridge for each alpha and fit the x and y training data to it  \n",
    "predict the values of validating data on the given alpha on training data  \n",
    "calculate mean square error and absolute square error of the validating data on the training data  \n",
    "print each value of alpha and its corresponding mean square error and mean absolute error  \n",
    "after validating all values of alpha get its best value according to least mean square error for both ridge and lasso regressions  "
   ]
  },
  {
   "cell_type": "code",
   "execution_count": null,
   "metadata": {},
   "outputs": [],
   "source": [
    "#alpha_values = np.logspace(-4, 2, 1000)  # From 10^-4 to 10^4\n",
    "#lasso = Lasso()\n",
    "#lasso_params = {'alpha': alpha_values}\n",
    "#ridge = Ridge()\n",
    "#ridge_params = {'alpha': alpha_values}\n",
    "#lasso_grid = GridSearchCV(lasso, lasso_params, cv=5, scoring='neg_mean_squared_error')\n",
    "#lasso_grid.fit(X_train, Y_train)\n",
    "#ridge_grid = GridSearchCV(ridge, ridge_params, cv=5, scoring='neg_mean_squared_error')\n",
    "#ridge_grid.fit(X_train, Y_train)\n",
    "#best_lasso_alpha = lasso_grid.best_params_['alpha']\n",
    "#best_score_lasso = lasso_grid.best_score_\n",
    "#best_alpha_ridge = ridge_grid.best_params_['alpha']\n",
    "#best_score_ridge = ridge_grid.best_score_\n",
    "#print(\"Best alpha for Lasso:\", best_alpha_lasso)\n",
    "#print(\"Best score for Lasso:\", best_score_lasso)\n",
    "#print(\"Best alpha for Ridge:\", best_alpha_ridge)\n",
    "#print(\"Best score for Ridge:\", best_score_ridge)\n",
    "\n"
   ]
  },
  {
   "cell_type": "markdown",
   "metadata": {},
   "source": [
    "another way to calculate best value for alpha but we need to combine training and validating data"
   ]
  },
  {
   "cell_type": "code",
   "execution_count": null,
   "metadata": {},
   "outputs": [],
   "source": [
    "X_train_final = np.concatenate([X_train, X_validate], axis=0)\n",
    "Y_train_final = np.concatenate([Y_train, Y_validate], axis=0)\n",
    "linear_reg = LinearRegression()\n",
    "lasso_reg = Lasso(alpha=best_lasso_alpha, max_iter=4000)\n",
    "ridge_reg = Ridge(alpha=best_ridge_alpha, max_iter=4000)\n",
    "linear_reg.fit(X_train_final, Y_train_final)\n",
    "lasso_reg.fit(X_train_final, Y_train_final)\n",
    "ridge_reg.fit(X_train_final, Y_train_final)\n",
    "linear_pred = linear_reg.predict(X_test)\n",
    "lasso_pred = lasso_reg.predict(X_test)\n",
    "ridge_pred = ridge_reg.predict(X_test)\n",
    "linear_mse = mean_squared_error(Y_test, linear_pred)\n",
    "linear_mae = mean_absolute_error(Y_test, linear_pred)\n",
    "lasso_mse = mean_squared_error(Y_test, lasso_pred)\n",
    "lasso_mae = mean_absolute_error(Y_test, lasso_pred)\n",
    "ridge_mse = mean_squared_error(Y_test, ridge_pred)\n",
    "ridge_mae = mean_absolute_error(Y_test, ridge_pred)\n",
    "print(\"Linear Regression - MSE:\", linear_mse, \"MAE:\", linear_mae)\n",
    "print(\"Lasso Regression - MSE:\", lasso_mse, \"MAE:\", lasso_mae)\n",
    "print(\"Ridge Regression - MSE:\", ridge_mse, \"MAE:\", ridge_mae)"
   ]
  },
  {
   "cell_type": "markdown",
   "metadata": {},
   "source": [
    "combine the training data and validating data and make final x and y values  \n",
    "make linear regression\n",
    "make lasso and ridge regression according to the best value of alpha got from the loop  \n",
    "fit the data for linear,ridge,and lasso  \n",
    "predict the values of the test data on linear,lasso,and ridge regressions  \n",
    "calculate the mean square error and mean absolute error for the test data on the remaining data  \n",
    "print them  "
   ]
  }
 ],
 "metadata": {
  "kernelspec": {
   "display_name": "Python 3",
   "language": "python",
   "name": "python3"
  },
  "language_info": {
   "codemirror_mode": {
    "name": "ipython",
    "version": 3
   },
   "file_extension": ".py",
   "mimetype": "text/x-python",
   "name": "python",
   "nbconvert_exporter": "python",
   "pygments_lexer": "ipython3",
   "version": "3.13.0"
  }
 },
 "nbformat": 4,
 "nbformat_minor": 2
}
